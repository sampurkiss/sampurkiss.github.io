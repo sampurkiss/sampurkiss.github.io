{
 "cells": [
  {
   "cell_type": "markdown",
   "metadata": {},
   "source": [
    "# Gender Disparity in IMDB Ratings\n",
    "\n",
    "Do you remember when they announced Ghostbusters was being remade with female leads? People seemed pretty upset about it. Almost immediately, after release, the films rating tanked. Was it a bad movie? Maybe. But a quick look at [IMDB's ratings]( https://www.imdb.com/title/tt1289401/ratings?demo=imdb_users) shows that although 17% of raters gave it 1 star, 11% of users gave it ten stars. This type of disparity is pretty uncommon - ratings don't usually follow this barbell pattern. Digging deeper I realized that about 24% of all women who rated the movie gave 10 stars but about 20% of all men gave 1 star. Because there were three times more men rating the film than women, ratings from men had a much more significant impact. This made me wonder if there are other films where there's a rating disparity between men and women. "
   ]
  },
  {
   "cell_type": "code",
   "execution_count": 19,
   "metadata": {},
   "outputs": [],
   "source": [
    "# Download packages\n",
    "import pandas as pd\n",
    "import plotly.plotly as py\n",
    "import plotly.graph_objs as go"
   ]
  },
  {
   "cell_type": "markdown",
   "metadata": {},
   "source": [
    "To start, I put together abuilt a list of almost 8,000 films with more than 10,000 IMDB user ratings for the analysis. I then restricted it to only films after 1950 with more than 50,000 reviews or else the graphs would generate too slowly for most users. If you're curious about how I generated the data or want to create your own database, check out my [github functions]( https://github.com/sampurkiss/movie_ratings_imdb/blob/master/get_rating_data.py)"
   ]
  },
  {
   "cell_type": "code",
   "execution_count": 32,
   "metadata": {},
   "outputs": [],
   "source": [
    "# Download the data\n",
    "movie_graph_data = pd.read_csv('https://raw.githubusercontent.com/sampurkiss/movie_ratings_imdb/master/movie_database.csv')\n",
    "movie_graph_data = movie_graph_data.loc[movie_graph_data['year']>1950]\n",
    "movie_graph_data = movie_graph_data.loc[movie_graph_data['no_of_ratings']>50000]\n",
    "# Need above since the total number of ratings given by IMDB doesn't always have gender data associated with it\n",
    "movie_graph_data['ratings_differential'] = movie_graph_data['males']- movie_graph_data['females']\n"
   ]
  },
  {
   "cell_type": "markdown",
   "metadata": {},
   "source": [
    "I was curious if there were a lot of movies where there was a significant difference in how genders rated the film. The below chart shows what each films rating was by respective gender proportion. If all genders rate movies the same, then the movies should fall along the diagonal line. For example, 37% of all men that rated the film Dangal and 37% of all women who rated the film Dangal gave 10 stars. This is the sort of symmetry we would expect, but as you can see, a lot of films fall far above and below the diagonal line indicating a skewed preference. In some cases, this isn't particularly surprising - some films tend to target women audiences and some tend to target male audiences. If you poke around in the chart, you'll probably notice a few films that skew higher to one gender than you may have expected.\n",
    "\n",
    "Before we go any further, you've probably noticed The Promise is an outlier in a lot of these graphs. I won't discuss it here, but I would encourage you to look into that particular films controversy and speculate on why it's such an outlier. "
   ]
  },
  {
   "cell_type": "code",
   "execution_count": 33,
   "metadata": {
    "scrolled": true
   },
   "outputs": [
    {
     "data": {
      "text/html": [
       "<iframe id=\"igraph\" scrolling=\"no\" style=\"border:none;\" seamless=\"seamless\" src=\"https://plot.ly/~sampurkiss/28.embed\" height=\"525px\" width=\"100%\"></iframe>"
      ],
      "text/plain": [
       "<plotly.tools.PlotlyDisplay object>"
      ]
     },
     "execution_count": 33,
     "metadata": {},
     "output_type": "execute_result"
    }
   ],
   "source": [
    "hover_text =[]\n",
    "for i in range(0,len(movie_graph_data)):\n",
    "    hover_text.append(('Movie: {movie}<br>'+\n",
    "                       'Release date: {date}<br>'+\n",
    "                       'Genre: {genre}').format(\n",
    "                               movie = movie_graph_data['name'].iloc[i],\n",
    "                               date = int(movie_graph_data['year'].iloc[i]),\n",
    "                               genre=movie_graph_data['genre'].iloc[i]))\n",
    "traces =[]\n",
    "for i in range(1,11):\n",
    "    trace0 =go.Scatter(x = movie_graph_data['male_rating_'+str(i)]/movie_graph_data['no_of_male_ratings'],\n",
    "                   y = movie_graph_data['female_rating_'+str(i)]/movie_graph_data['no_of_female_ratings'],\n",
    "                   mode = 'markers',\n",
    "                   text = hover_text,\n",
    "                   name = str(i)+' stars')\n",
    "    traces.append(trace0)\n",
    "\n",
    "dissecting_line = go.Scatter(x =[0,2],\n",
    "                            y = [0,2],\n",
    "                            mode = 'lines',\n",
    "                            name = 'Intersecting Line',\n",
    "                            marker = dict(color = 'rgba(106,114,119,0.5)'))\n",
    "traces.append(dissecting_line)\n",
    "\n",
    "layout = go.Layout(title = 'Movie Ratings by Gender Proportion',\n",
    "                   hovermode = 'closest',\n",
    "                   showlegend = True,\n",
    "                   xaxis = dict(title = 'Proportion of All Male Ratings',\n",
    "                                range=[0, 1],\n",
    "                               tickformat='.0%'),\n",
    "                   yaxis = dict(title = 'Proportion of All Female Ratings',\n",
    "                                range=[0, 1],\n",
    "                               tickformat='.0%'))\n",
    "fig = go.Figure(data = traces, layout = layout)\n",
    "\n",
    "py.iplot(fig, filename='movie-ratings-by-gender')\n"
   ]
  },
  {
   "cell_type": "markdown",
   "metadata": {},
   "source": [
    "The first thing I noticed is that IMDB 10 ratings seem to skew female, and 1 ratings appear to skew slightly male. In fact, The chart below shows that women do tend to give significantly more 10 ratings and men tend to give ratings between 6 and 8. Women actually give slightly more 1s indicating that the above chart is skewed by a handful of outliers.  That should mean that movies with more female ratings should have much higher ratings. "
   ]
  },
  {
   "cell_type": "code",
   "execution_count": 34,
   "metadata": {},
   "outputs": [
    {
     "data": {
      "text/html": [
       "<iframe id=\"igraph\" scrolling=\"no\" style=\"border:none;\" seamless=\"seamless\" src=\"https://plot.ly/~sampurkiss/38.embed\" height=\"525px\" width=\"100%\"></iframe>"
      ],
      "text/plain": [
       "<plotly.tools.PlotlyDisplay object>"
      ]
     },
     "execution_count": 34,
     "metadata": {},
     "output_type": "execute_result"
    }
   ],
   "source": [
    "ratings = movie_graph_data[['male_rating_10', 'male_rating_9', 'male_rating_8', 'male_rating_7',\n",
    "       'male_rating_6', 'male_rating_5', 'male_rating_4', 'male_rating_3',\n",
    "       'male_rating_2', 'male_rating_1', 'female_rating_10', 'female_rating_9',\n",
    "       'female_rating_8', 'female_rating_7', 'female_rating_6',\n",
    "       'female_rating_5', 'female_rating_4', 'female_rating_3',\n",
    "       'female_rating_2', 'female_rating_1']].aggregate(sum)\n",
    "ratings = pd.DataFrame(ratings)\n",
    "ratings.reset_index(inplace=True)\n",
    "ratings = ratings.rename(columns={'index':'type',0:'number'})\n",
    "\n",
    "rating_range = []\n",
    "for i in range(10, 0, -1):\n",
    "    rating_range.append(i)\n",
    "\n",
    "trace1 = go.Bar(x = rating_range,\n",
    "                     y = ratings['number'].iloc[0:10]/sum(ratings['number'].iloc[0:10]),\n",
    "                     name = \"Mens\")\n",
    "trace2 = go.Bar(x = rating_range,\n",
    "                     y = ratings['number'].iloc[10:20]/sum(ratings['number'].iloc[10:20]),\n",
    "                     name = \"Womens\")\n",
    "    \n",
    "layout = go.Layout(title='Ratings distribution by gender',\n",
    "                  yaxis=dict(title='Proportion of Respective Gender',\n",
    "                            tickformat='.0%'),\n",
    "                  xaxis=dict(title='Star Rating Out of 10')) \n",
    "    \n",
    "fig = go.Figure(data = [trace1, trace2], layout=layout)\n",
    "py.iplot(fig, filename = 'rating-distribution')\n",
    "\n"
   ]
  },
  {
   "cell_type": "markdown",
   "metadata": {},
   "source": [
    "This should be great news for aspiring film makers - create films for female audiences and your rating will soar! Unfortunately, a challenge is that IMDB ratings are dominated by men. That means male opinions are more likely to sway IMDB ratings. In fact, as shown in the distribution below, there isn't a single film in the database that has more than 75% of ratings from women, but a huge proportion of films have more than 75% male ratings. This was a real surprise to me - anyone can make an IMDB account and once you've done that, it's very easy to rate a film. It's curious that so many more men than women have chosen to do so. It's especially surprising when you consider that half of all moviegoers are female ([according to the MPAA](https://www.mpaa.org/wp-content/uploads/2018/04/MPAA-THEME-Report-2017_Final.pdf))."
   ]
  },
  {
   "cell_type": "code",
   "execution_count": 36,
   "metadata": {},
   "outputs": [
    {
     "data": {
      "text/html": [
       "<iframe id=\"igraph\" scrolling=\"no\" style=\"border:none;\" seamless=\"seamless\" src=\"https://plot.ly/~sampurkiss/32.embed\" height=\"525px\" width=\"100%\"></iframe>"
      ],
      "text/plain": [
       "<plotly.tools.PlotlyDisplay object>"
      ]
     },
     "execution_count": 36,
     "metadata": {},
     "output_type": "execute_result"
    }
   ],
   "source": [
    "x0 = movie_graph_data['no_of_female_ratings']/movie_graph_data['gender_ratings']\n",
    "\n",
    "trace = go.Histogram(x=x0)\n",
    "\n",
    "layout = go.Layout(title = 'Proportion of women giving ratings',\n",
    "                   xaxis = dict(title = 'Proportion of Female Raters',\n",
    "                                range = [0,1],\n",
    "                               tickformat='.0%'),\n",
    "                  yaxis=dict(title='Number of Movies'))\n",
    "\n",
    "fig = go.Figure(data = [trace], layout = layout)\n",
    "\n",
    "py.iplot(fig, filename='proportion-of-female-raters')"
   ]
  },
  {
   "cell_type": "markdown",
   "metadata": {},
   "source": [
    "So lets dig in to these gender differences a little more. For each film, I ranked it by IMDB male rating and the IMDB female rating to get a ranking for each gender. I then took the difference to compare how genders ranked the movies. For example, if the male ranking of a film was 300 (as in 300th best rated movie according to males) and the female ranking of the same film was 400, then the differential would be 100 (-100 would imply that the female ranking is higher). A higher differential indicates a larger difference between how females and males ranked a movie. As shown below, the larger the amount of females as a proportion of total that rated each movie, the wider the differential becomes. This means that the less women there are that rated a movie, the more likely it is that men rated it highly and vice versa."
   ]
  },
  {
   "cell_type": "code",
   "execution_count": 37,
   "metadata": {},
   "outputs": [
    {
     "data": {
      "text/html": [
       "<iframe id=\"igraph\" scrolling=\"no\" style=\"border:none;\" seamless=\"seamless\" src=\"https://plot.ly/~sampurkiss/40.embed\" height=\"525px\" width=\"100%\"></iframe>"
      ],
      "text/plain": [
       "<plotly.tools.PlotlyDisplay object>"
      ]
     },
     "execution_count": 37,
     "metadata": {},
     "output_type": "execute_result"
    }
   ],
   "source": [
    "differentials = movie_graph_data\n",
    "differentials['male_ranking']= differentials['males'].rank()\n",
    "differentials['female_ranking']= differentials['females'].rank()\n",
    "differentials['ranking_differential'] = (differentials['male_ranking'] -\n",
    "                                        differentials['female_ranking'])\n",
    "\n",
    "trace = go.Scatter(y= differentials['ranking_differential'],\n",
    "                  x = differentials['no_of_female_ratings']/differentials['gender_ratings'],\n",
    "                  text = differentials['name'],\n",
    "                  mode='markers',\n",
    "                  name ='')\n",
    "\n",
    "layout = go.Layout(title = 'Ranking differential by proportion of films rated by women',\n",
    "                   hovermode = 'closest',\n",
    "                   showlegend = False,\n",
    "                  xaxis = dict(tickformat='.0%',\n",
    "                              title = 'Proportion of Female Ratings'),\n",
    "                  yaxis=dict(tickformat='0,000',\n",
    "                            title='Ranking differential'))\n",
    "\n",
    "fig = go.Figure(data = [trace], layout = layout)\n",
    "\n",
    "py.iplot(fig, filename = 'rating-differential')"
   ]
  },
  {
   "cell_type": "markdown",
   "metadata": {},
   "source": [
    "My first thought was, well, that's a big list of movies, maybe there's a lot of noise. IMDB is pretty big on its top 250 movies so I thought maybe I should restrict my dataset to just that. To get to its top 250, IMDB requires that each film has at least 25,000 ratings [(see the full criteria here)](https://help.imdb.com/article/imdb/track-movies-tv/faq-for-imdb-ratings/G67Y87TFYYP6TWAV#). I've already restricted my dataset to only those with ratings above 50,000 so I simply screened for the top 250 for each gender. Unfortunately, that didn't clear the issue. Even for each genders respective top 250, the more female raters, the wider the gap between gender rankings. "
   ]
  },
  {
   "cell_type": "code",
   "execution_count": 43,
   "metadata": {},
   "outputs": [
    {
     "data": {
      "text/html": [
       "<iframe id=\"igraph\" scrolling=\"no\" style=\"border:none;\" seamless=\"seamless\" src=\"https://plot.ly/~sampurkiss/44.embed\" height=\"525px\" width=\"100%\"></iframe>"
      ],
      "text/plain": [
       "<plotly.tools.PlotlyDisplay object>"
      ]
     },
     "execution_count": 43,
     "metadata": {},
     "output_type": "execute_result"
    }
   ],
   "source": [
    "differentials = movie_graph_data\n",
    "differentials = differentials.loc[differentials['no_of_ratings']>25000]  \n",
    "differentials['male_ranking']= differentials['males'].rank()\n",
    "differentials['female_ranking']= differentials['females'].rank()\n",
    "differentials = differentials.query(\"male_ranking<250|female_ranking<250\")\n",
    "differentials['ranking_differential'] = (differentials['male_ranking'] -\n",
    "                                        differentials['female_ranking'])\n",
    "\n",
    "\n",
    "trace = go.Scatter(y= differentials['ranking_differential'],\n",
    "                  x = differentials['no_of_female_ratings']/differentials['gender_ratings'],\n",
    "                  text = differentials['name'],\n",
    "                  mode='markers',\n",
    "                  name ='')\n",
    "\n",
    "layout = go.Layout(title = 'Ranking differential by proportion of films rated by women',\n",
    "                   hovermode = 'closest',\n",
    "                   showlegend = False,\n",
    "                  xaxis = dict(tickformat='.0%',\n",
    "                              title = 'Proportion of Female Ratings'),\n",
    "                  yaxis=dict(tickformat='0,000',\n",
    "                            title='Ranking differential'))\n",
    "\n",
    "fig = go.Figure(data = [trace], layout = layout)\n",
    "\n",
    "py.iplot(fig, filename = 'rating-differential-top-250')"
   ]
  },
  {
   "cell_type": "markdown",
   "metadata": {},
   "source": [
    "To look at how these ranking differentials show up in actual ratings, I took the ratings differential (male rating minus female rating) to find what the average difference is by proportion of female raters. Consistent with above, the larger the proportion of females rating a movie, the wider the gap between male and female ratings. "
   ]
  },
  {
   "cell_type": "code",
   "execution_count": 47,
   "metadata": {},
   "outputs": [
    {
     "data": {
      "text/html": [
       "<iframe id=\"igraph\" scrolling=\"no\" style=\"border:none;\" seamless=\"seamless\" src=\"https://plot.ly/~sampurkiss/34.embed\" height=\"525px\" width=\"100%\"></iframe>"
      ],
      "text/plain": [
       "<plotly.tools.PlotlyDisplay object>"
      ]
     },
     "execution_count": 47,
     "metadata": {},
     "output_type": "execute_result"
    }
   ],
   "source": [
    "ratings_diff = movie_graph_data[['no_of_female_ratings','gender_ratings','ratings_differential']].copy()\n",
    "ratings_diff.loc[:,'proportion'] = (ratings_diff.loc[:,'no_of_female_ratings']/ratings_diff.loc[:,'gender_ratings']/5).round(2)*5\n",
    "ratings_diff = (ratings_diff\n",
    "                .groupby(['proportion'])[['proportion','ratings_differential']]\n",
    "                .agg(['mean','count']))\n",
    "ratings_diff.loc[:,'films'] = ['Number of films: ' + str(ratings_diff['proportion']['count'].iloc[i]) for i in range(0,len(ratings_diff))]\n",
    "\n",
    "trace = go.Scatter(x = ratings_diff['proportion']['mean'],\n",
    "                   y = ratings_diff['ratings_differential']['mean'],\n",
    "                   mode = 'lines',\n",
    "                   text = ratings_diff['films'],\n",
    "                   name = '')\n",
    "\n",
    "layout = go.Layout(title = 'Ratings differential by proportion of female raters',\n",
    "                   showlegend = False,\n",
    "                    xaxis = dict(title = 'Proportion of Female Raters',\n",
    "                                 range=[0, .75],\n",
    "                                tickformat ='.0%'),\n",
    "                       yaxis = dict(title = 'Ratings differential',\n",
    "                    range=[-2, 2]))\n",
    "                    \n",
    "fig= go.Figure(data = [trace], layout = layout)\n",
    "\n",
    "py.iplot(fig, filename = 'ratings-differentials-female')\n"
   ]
  },
  {
   "cell_type": "markdown",
   "metadata": {},
   "source": [
    "Building on the above, I was curious how the differences in male vs. female opinion translated into the overall IMDB score. The next chart shows the total IMDB score and ratings from only male users and ratings from only female users. This gap between male and female ratings appears to noticeably harm a films ratings. As a movie is rated by more females, the gap between the ratings increase, and the movies rating falls even further."
   ]
  },
  {
   "cell_type": "code",
   "execution_count": 48,
   "metadata": {},
   "outputs": [
    {
     "data": {
      "text/html": [
       "<iframe id=\"igraph\" scrolling=\"no\" style=\"border:none;\" seamless=\"seamless\" src=\"https://plot.ly/~sampurkiss/42.embed\" height=\"525px\" width=\"100%\"></iframe>"
      ],
      "text/plain": [
       "<plotly.tools.PlotlyDisplay object>"
      ]
     },
     "execution_count": 48,
     "metadata": {},
     "output_type": "execute_result"
    }
   ],
   "source": [
    "ratings_diff = movie_graph_data[['no_of_female_ratings','gender_ratings','imdb_users','males','females']].copy()\n",
    "ratings_diff.loc[:,'proportion'] = (ratings_diff.loc[:,'no_of_female_ratings']/ratings_diff.loc[:,'gender_ratings']/5).round(2)*5\n",
    "ratings_diff = ratings_diff.groupby(by=['proportion'])[['proportion','imdb_users','males','females']].agg(['mean','count'])\n",
    "ratings_diff.loc[:,'films'] = ['Number of films: ' + str(ratings_diff['proportion']['count'].iloc[i]) for i in range(0,len(ratings_diff))]\n",
    "\n",
    "trace1 = go.Scatter(x = ratings_diff['proportion']['mean'],\n",
    "                   y = ratings_diff['imdb_users']['mean'],\n",
    "                   mode = 'lines',\n",
    "                   text = ratings_diff['films'],\n",
    "                   name = 'All user ratings')\n",
    "trace2 = go.Scatter(x = ratings_diff['proportion']['mean'],\n",
    "                   y = ratings_diff['males']['mean'],\n",
    "                   mode = 'lines',\n",
    "                   text = ratings_diff['films'],\n",
    "                   name = 'All male ratings')\n",
    "trace3 = go.Scatter(x = ratings_diff['proportion']['mean'],\n",
    "                   y = ratings_diff['females']['mean'],\n",
    "                   mode = 'lines',\n",
    "                   text = ratings_diff['films'],\n",
    "                   name = 'All female ratings')\n",
    "\n",
    "layout = go.Layout(title = 'Total rating by proportion of female raters',\n",
    "                   showlegend = True,\n",
    "                    xaxis = dict(title = 'Proportion of Female Raters',\n",
    "                                 range=[0, .75],\n",
    "                                tickformat ='.0%'),\n",
    "                       yaxis = dict(title = 'IMDB Rating',\n",
    "                    range=[5, 10]))\n",
    "                    \n",
    "fig= go.Figure(data = [trace1,trace2,trace3], layout = layout)\n",
    "\n",
    "py.iplot(fig, filename = 'ratings-female-proportions')\n"
   ]
  },
  {
   "cell_type": "markdown",
   "metadata": {},
   "source": [
    "So, now we know that movie ratings are dominated by men, and that there's a wide gap between movies men like and movies women like. As a result, movies that far more women watch (assuming a large proportion of female ratings indicates that predominantly women watched the film) tend to have worse ratings than movies that far more men watch. Looking at box office results for films using the same proportion as above, it seems that films do better when they're not at the extreme ends, i.e. when films appeal to both genders. The issue here is that the extreme end for men has lots of movies, but there are almost no films where females make up more than half the raters."
   ]
  },
  {
   "cell_type": "code",
   "execution_count": 49,
   "metadata": {},
   "outputs": [
    {
     "data": {
      "text/html": [
       "<iframe id=\"igraph\" scrolling=\"no\" style=\"border:none;\" seamless=\"seamless\" src=\"https://plot.ly/~sampurkiss/36.embed\" height=\"525px\" width=\"100%\"></iframe>"
      ],
      "text/plain": [
       "<plotly.tools.PlotlyDisplay object>"
      ]
     },
     "execution_count": 49,
     "metadata": {},
     "output_type": "execute_result"
    }
   ],
   "source": [
    "box_office = movie_graph_data\n",
    "#Get average box office return by rating\n",
    "box_office['proportion_female'] = (box_office['no_of_female_ratings']/\\\n",
    "                                         box_office['gender_ratings']/5).round(2)*5\n",
    "\n",
    "#Note: need to filter out films without any box office information\n",
    "box_office=(box_office[box_office['gross_worldwide']>0][['gross_worldwide','proportion_female']]\n",
    "            .groupby(by=['proportion_female'])\n",
    "            .agg(['mean','count'])\n",
    "            .reset_index())\n",
    "\n",
    "\n",
    "trace = go.Scatter(x = box_office['proportion_female'],\n",
    "                   y = box_office['gross_worldwide']['mean'],\n",
    "                   mode = 'lines',\n",
    "                   text = ['Number of films: '+str(num) for num in box_office['gross_worldwide']['count']],\n",
    "                   name = '')\n",
    "\n",
    "\n",
    "layout = go.Layout(title = 'Average box office amount by proportion of female raters',\n",
    "                   showlegend = False,\n",
    "                   hovermode = 'closest',\n",
    "                    xaxis = dict(title = 'Proportion of Female Raters',\n",
    "                                 range=[0, .75],\n",
    "                                tickformat ='.0%'),\n",
    "                       yaxis = dict(title = 'Box Office Amount'))\n",
    "                    \n",
    "fig= go.Figure(data = [trace], layout = layout)\n",
    "\n",
    "py.iplot(fig, filename = 'box-office-revenue-female')"
   ]
  },
  {
   "cell_type": "markdown",
   "metadata": {},
   "source": [
    "There is a real problem in gender differences in ratings. First, movie ratings are overwhelmingly male, and the more popular a movie is with women, the more that male ratings drag the films overall rating down. A public IMDB score can influence a persons decision to watch a movie or not and it can help build public perception on the film. And yet, the scores we see and are basing decisions on, don't accurately represent the population. As Meryl Streep noted: \"[Men and women] like different things. Sometimes they like the same things, but their tastes diverge. If the Tomatometer is slided so completely to one set of tastes, that drives box office in the U.S., absolutely.” [Variety noted](https://variety.com/2016/film/news/movie-critics-men-women-diversity-study-1201801555/) that lack of diversity in user and professional critic reviews mirror lack of diversity in the film industry overall. They also noted that there's no evidence that men like movies more than woman, or that men enjoy critiquing things more than women, but the lack of female leadership across the industry has helped exacerbate this problem. IMDB has attempted to overcome some of this affect by using a weighted average to calculate overall rating, but this is primarily to combat 'vote stuffing' by people interested in changing the rating for any reason, but as shown above, the gender differences are still significant.\n",
    "\n",
    "Unfortunately, the movie industry still has a [long way to go to achieve real diversity](https://variety.com/2018/film/news/hollywood-diversity-2-1202898210/), and until that happens movie ratings will likely continue to reflect the industry. Movie ratings are just a symptom of a much larger problem. As consumers, we have the power to push for change with the films we choose to support financially or otherwise. So get out there and watch more movies, you'll be making a difference!"
   ]
  },
  {
   "cell_type": "code",
   "execution_count": null,
   "metadata": {},
   "outputs": [],
   "source": []
  },
  {
   "cell_type": "code",
   "execution_count": null,
   "metadata": {},
   "outputs": [],
   "source": []
  },
  {
   "cell_type": "code",
   "execution_count": null,
   "metadata": {},
   "outputs": [],
   "source": []
  }
 ],
 "metadata": {
  "kernelspec": {
   "display_name": "Python 3",
   "language": "python",
   "name": "python3"
  },
  "language_info": {
   "codemirror_mode": {
    "name": "ipython",
    "version": 3
   },
   "file_extension": ".py",
   "mimetype": "text/x-python",
   "name": "python",
   "nbconvert_exporter": "python",
   "pygments_lexer": "ipython3",
   "version": "3.6.5"
  }
 },
 "nbformat": 4,
 "nbformat_minor": 2
}
