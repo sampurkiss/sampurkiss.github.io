{
 "cells": [
  {
   "cell_type": "markdown",
   "metadata": {},
   "source": [
    "I'm a huge fan of thought experiments, and although it's by no means the freakiest of experiments, the Monty Hall problem is one I always had a hard time wrapping my head around.\n",
    "\n",
    "If you're unfamiliar, the general premise is this: you're on [Monty Hall's game show](https://www.imdb.com/title/tt0056770/) and you have to pick one of three doors to open. One door holds a prize, the other two hold goats. Let's say the prize is a car and let's say you're the sort of person who prefers cars to goats. You have no information to go off of, so you just pick a door at random. But then Monty Hall opens one of the remaining two doors to reveal a goat. Should you pick a different door? \n",
    "\n",
    "You probably know by now that the answer is yes. The simplest way to think about why is to first allocate probabilities of success to each door. Since we don't have any prior information, there is a 1/3 chance of any door containing a prize. The door you first pick has a 1/3 chance of containing the car, and other other doors contain a combined 2/3 chance of containing the car. When Monty opens one of the doors to reveal a goat, the remaining door takes on the full 2/3 probability of containing a car. Therefore, the probability you win with your current door is 1/3 and the probability you win if you change doors is 2/3.\n",
    "\n",
    "I wanted to test this solution out by running a ton of trials and seeing what the long term success rate of either choice is."
   ]
  },
  {
   "cell_type": "code",
   "execution_count": 9,
   "metadata": {},
   "outputs": [],
   "source": [
    "import random\n",
    "import matplotlib.pyplot as plt\n",
    "from matplotlib.ticker import FuncFormatter\n",
    "import numpy as np"
   ]
  },
  {
   "cell_type": "markdown",
   "metadata": {},
   "source": [
    "I built a function that tracks the cumulative probability of staying with the same door or switching. The function picks a door at random to contain the prize. It then picks a door at random. Once one of the non-chosen doors is revealed to not contain the prize, the function notes whether it would win by staying with its current door or by choosing a different door."
   ]
  },
  {
   "cell_type": "code",
   "execution_count": 6,
   "metadata": {},
   "outputs": [],
   "source": [
    "def plot_data(change_probs, stay_probs):\n",
    "    \"\"\"\n",
    "    This function plots two success percentage vectors from \n",
    "    the Monty Hall function. The output is one plot file.\n",
    "    \"\"\"\n",
    "    \n",
    "    axis_points = np.linspace(0,1, num = 11)\n",
    "    \n",
    "    fig, ax = plt.subplots()\n",
    "    ax.plot(change_probs, 'b-', stay_probs, 'r-')\n",
    "    ax.yaxis.set_major_formatter(FuncFormatter(lambda y, _: '{:.0%}'.format(y)))\n",
    "    ax.axhline(y=0.67)\n",
    "    ax.axhline(y=0.33)\n",
    "    plt.xlabel('Number of Trials')\n",
    "    plt.ylabel('Total successes')\n",
    "    plt.title('Monty Hall Problem')\n",
    "    plt.legend(('Change Doors', 'Don\\'t Change Doors'))\n",
    "    plt.yticks(axis_points)\n",
    "    \n",
    "    return fig\n",
    "\n",
    "def monty_hall(trials = 1000):\n",
    "    \"\"\"\n",
    "    This program tracks the result of the classic Monty Hall problem.\n",
    "    It compares the actual percentage of success if you switch doors vs. if \n",
    "    you stick with the orignal choice. \n",
    "    If the Monty Hall solution is correct, then your probability of choosing the winning \n",
    "    door should be 2/3 if you switch your choice, and 1/3 if you don't.\n",
    "    The output is two vectors showing the proportion of success in either scenario\n",
    "    given the pre-specified number of trials and a chart showing the results.\n",
    "    \"\"\"\n",
    "    #List for win or not results if you switch\n",
    "    change_result = []\n",
    "    #List for proportion of current number of wins and losses\n",
    "    change_probs = []\n",
    "    #similar lists as above assuming door choice is not switched\n",
    "    stay_result = []\n",
    "    stay_probs = []\n",
    "    \n",
    "    counter = 0\n",
    "    \n",
    "    while counter < trials:\n",
    "        #reset the doors so all are blank and then assign one at random to take a value of 1\n",
    "        #1 indicates a win, 0 indicates a loss\n",
    "        doors = [0,0,0]\n",
    "        rand_no = random.randint(0,2)\n",
    "        doors[rand_no] = 1\n",
    "        \n",
    "        #Pick a door at random - at this stage you have 1/3 probability of being right so random is fine\n",
    "        selected_door = random.randint(0,2)\n",
    "        \n",
    "        #Monty hall reveals a door that's not a winner\n",
    "        #The code does this by cycling through the two remaning doors and picking one that's not a winner\n",
    "        if doors[selected_door-1] != 1:\n",
    "            opened_door = selected_door-1\n",
    "        elif doors[selected_door-2] !=1:\n",
    "            opened_door = selected_door-2\n",
    "            \n",
    "        #Now remove the two doors to leave only one result\n",
    "        #Track what the result is if you stayed\n",
    "        initial_door_result  = doors.pop(selected_door)        \n",
    "        doors.pop(opened_door)\n",
    "        #There's only one door left\n",
    "        new_door_result = doors[0]\n",
    "                \n",
    "        #add results of changing door selection\n",
    "        change_result.append(new_door_result)\n",
    "        #calculate the percentage of times the correct door was selected\n",
    "        current_percent = sum(change_result)/len(change_result)\n",
    "        change_probs.append(current_percent)\n",
    "       \n",
    "        #add results of not changing door selection\n",
    "        stay_result.append(initial_door_result)\n",
    "        stay_percent = sum(stay_result)/len(stay_result)          \n",
    "        stay_probs.append(stay_percent)\n",
    "                \n",
    "        counter+=1\n",
    "    \n",
    "    #create graph showing results\n",
    "    charted = plot_data(change_probs, stay_probs)\n",
    "    \n",
    "    return(change_probs, \n",
    "           stay_probs, \n",
    "           charted)        "
   ]
  },
  {
   "cell_type": "markdown",
   "metadata": {},
   "source": [
    "I ran 1000 different trials and, when I plotted the results, I saw that over time the probabilities of winning by changing doors converged to 67% and the probabilities of winning by not changing doors converged to 33% - exactly what I expected to see. )The two horizantal lines in the chart indicate the respective probabilities.)"
   ]
  },
  {
   "cell_type": "code",
   "execution_count": 7,
   "metadata": {},
   "outputs": [
    {
     "data": {
      "image/png": "[encoded data removed]",
      "text/plain": [
       "<Figure size 432x288 with 1 Axes>"
      ]
     },
     "metadata": {},
     "output_type": "display_data"
    }
   ],
   "source": [
    "[change_probs, stay_probs, charted]= monty_hall(trials = 1000)\n"
   ]
  },
  {
   "cell_type": "markdown",
   "metadata": {},
   "source": [
    "So there you have it. The math may seem weird or counterintuitive, but if you run this trial enough times you'll see that we got exactly the expected result.\n",
    "\n",
    "One of my favourite things about programming is being able to run experiments like this. Unfortunately, there's no chance I could go on Monty Hall's show 1,000 times so being able to simulate these results is very exciting."
   ]
  }
 ],
 "metadata": {
  "kernelspec": {
   "display_name": "Python 3",
   "language": "python",
   "name": "python3"
  },
  "language_info": {
   "codemirror_mode": {
    "name": "ipython",
    "version": 3
   },
   "file_extension": ".py",
   "mimetype": "text/x-python",
   "name": "python",
   "nbconvert_exporter": "python",
   "pygments_lexer": "ipython3",
   "version": "3.6.5"
  }
 },
 "nbformat": 4,
 "nbformat_minor": 2
}
